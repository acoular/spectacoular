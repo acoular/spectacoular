{
  "cells": [
    {
      "cell_type": "markdown",
      "metadata": {},
      "source": [
        "\n\n# Basic plotting with Bokeh\n\nIn this example, we are going to create a simple plot of a Microphone Array Geometry loaded from \nan XML file using the Acoular package and Bokeh for visualization.  \n\n.. bokeh-plot:: ../examples/basic_mic_geom_plot.py\n   :source-position: none\n"
      ]
    },
    {
      "cell_type": "markdown",
      "metadata": {},
      "source": [
        "First, we import the necessary modules ([acoular](https://www.acoular.org/) and [pathlib](https://docs.python.org/3/library/pathlib.html)).\n\n"
      ]
    },
    {
      "cell_type": "code",
      "execution_count": null,
      "metadata": {
        "collapsed": false
      },
      "outputs": [],
      "source": [
        "import acoular as ac\nfrom pathlib import Path"
      ]
    },
    {
      "cell_type": "markdown",
      "metadata": {},
      "source": [
        "Next, we set up the microphone geometry by using Acoular's :class:`~acoular.microphones.MicGeom` class.  \nFor demonstration purposes, we will use a 64 channel Vogel's spiral microphone array geometry, \nstored in an XML file that is part of the Acoular package. To locate the \n[XML directory](https://github.com/acoular/acoular/tree/master/acoular/xml) in the Acoular package,\nwe use the :class:`~pathlib.Path` object to dynamically construct the path relative to the \nAcoular package location.\n\n"
      ]
    },
    {
      "cell_type": "code",
      "execution_count": null,
      "metadata": {
        "collapsed": false
      },
      "outputs": [],
      "source": [
        "mics = ac.MicGeom(file=Path(ac.__file__).parent / 'xml' / 'tub_vogel64.xml')"
      ]
    },
    {
      "cell_type": "markdown",
      "metadata": {},
      "source": [
        "The :class:`~acoular.microphones.MicGeom` class stores the microphone positions in an attribute \ncalled :attr:`~acoular.microphones.MicGeom.pos_total`, which is a NumPy array containing the 3D \ncoordinates of each microphone in the array. \n\n"
      ]
    },
    {
      "cell_type": "markdown",
      "metadata": {},
      "source": [
        "Now, let's create a Bokeh :class:`~bokeh.plotting.figure` to visualize the microphone positions. \n\n"
      ]
    },
    {
      "cell_type": "code",
      "execution_count": null,
      "metadata": {
        "collapsed": false
      },
      "outputs": [],
      "source": [
        "from bokeh.plotting import figure #noqa: E402\n\nfigure = figure(title='Microphone Geometry', tools='hover,zoom_in,zoom_out,reset,lasso_select', sizing_mode='stretch_width', match_aspect=True)"
      ]
    },
    {
      "cell_type": "markdown",
      "metadata": {},
      "source": [
        "The convenient way to provide data to a Bokeh :class:`~bokeh.plotting.Plot` is to use a \n:class:`~bokeh.models.ColumnDataSource`, which is a data structure that allows us to easily update\nthe data in the plot. Since we create a 2D plot, we only need the x and y coordinates of the microphones. \n\n"
      ]
    },
    {
      "cell_type": "code",
      "execution_count": null,
      "metadata": {
        "collapsed": false
      },
      "outputs": [],
      "source": [
        "from bokeh.models import ColumnDataSource #noqa: E402\n\nsource = ColumnDataSource(data={'x': mics.pos_total[0], 'y': mics.pos_total[1]})"
      ]
    },
    {
      "cell_type": "markdown",
      "metadata": {},
      "source": [
        "In addition, we need to decide which \n[glyph](https://docs.bokeh.org/en/latest/docs/reference/models/glyphs.html#module-bokeh.models.glyphs) \nto use. Glyphs are the basic building blocks of Bokeh plots, and they define how the data is visualized. \nIn this case, we will use the :meth:`~bokeh.plotting.figure.circle` method to create a \n:class:`~bokeh.models.glyphs.Circle` to represent the microphones.\n\n"
      ]
    },
    {
      "cell_type": "code",
      "execution_count": null,
      "metadata": {
        "collapsed": false
      },
      "outputs": [],
      "source": [
        "figure.circle(x='x', y='y', radius=0.02, line_color='black', fill_color='#1F77B4', fill_alpha=0.4, source=source)"
      ]
    },
    {
      "cell_type": "markdown",
      "metadata": {},
      "source": [
        "Finally, we can show the plot using Bokeh's :func:`~bokeh.io.show` function. This will open a new \nbrowser window and display the plot with the microphone positions.\n\n\n"
      ]
    },
    {
      "cell_type": "code",
      "execution_count": null,
      "metadata": {
        "collapsed": false
      },
      "outputs": [],
      "source": [
        "from bokeh.io import show  # noqa: E402\n\nshow(figure)  # Show the plot in a new browser window (standalone HTML)"
      ]
    }
  ],
  "metadata": {
    "kernelspec": {
      "display_name": "Python 3",
      "language": "python",
      "name": "python3"
    },
    "language_info": {
      "codemirror_mode": {
        "name": "ipython",
        "version": 3
      },
      "file_extension": ".py",
      "mimetype": "text/x-python",
      "name": "python",
      "nbconvert_exporter": "python",
      "pygments_lexer": "ipython3",
      "version": "3.13.3"
    }
  },
  "nbformat": 4,
  "nbformat_minor": 0
}
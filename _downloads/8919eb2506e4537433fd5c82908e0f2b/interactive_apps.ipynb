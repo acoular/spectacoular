{
  "cells": [
    {
      "cell_type": "markdown",
      "metadata": {},
      "source": [
        "\n\n# Interactive Server Applications with SepctAcoular\n\nIn many cases, a standalone HTML document is not sufficient to provide full interactivity, especially\nwhen computations are required on the Python side to update data shown in the Browser document. \nBokeh provides a way to host applications that can be run in a web browser, allowing for\ninteractivity and real-time updates. \n\n<img src=\"https://docs.bokeh.org/en/latest/_images/bokeh_serve.svg\" width=\"600px\" align=\"center\" alt=\"Bokeh Server Application (see: [Bokeh documentation](https://docs.bokeh.org/en/latest/docs/user_guide/server/app.html#ug-server-apps))\">\n\n\nIn this example, we are going to create an interactive application to visualize the Beamforming \nresult for Acoular's \n[three sources example](https://www.acoular.org/auto_examples/introductory_examples/example_basic_beamforming.html#sphx-glr-auto-examples-introductory-examples-example-basic-beamforming-py) .\nAs seen by the HTML document below, changing the frequency or grid parameters will **not** result\nin an update of the plot, since the HTML document is static and does not allow for interaction with \nthe Python code. Instead, it is necessary to run a Bokeh server application hosting the Python code \nto which the client can listen for updates of the data.\n\nTo start the Bokeh server, one can run the following command in the terminal:\n\n```bash\nbokeh serve --show spectacoular/examples/interactive_apps.py\n```\n.. bokeh-plot:: ../examples/interactive_apps.py\n   :source-position: none\n"
      ]
    },
    {
      "cell_type": "markdown",
      "metadata": {},
      "source": [
        "## Create three sources example\n\nLet's begin by importing Acoular and setting up the simulation pipeline for the three sources example.\n\n"
      ]
    },
    {
      "cell_type": "code",
      "execution_count": null,
      "metadata": {
        "collapsed": false
      },
      "outputs": [],
      "source": [
        "import acoular as ac\nimport spectacoular as sp\nfrom pathlib import Path\n\nmg = ac.MicGeom( file=Path(ac.__file__).parent / 'xml' / 'array_64.xml' )\n\n# create time data source\nthree_sources = ac.demo.create_three_sources(mg)"
      ]
    },
    {
      "cell_type": "markdown",
      "metadata": {},
      "source": [
        "Next, we will define a rectangular grid (:class:`~acoular.grids.RectGrid`) discretizing the source area. \nTo obtain a source map at 4 kHz (one-third octave) asociated with the defined grid, \nwe will utilize conventional beamforming (:class:`~acoular.fbeamform.BeamformerBase`).\n\n"
      ]
    },
    {
      "cell_type": "code",
      "execution_count": null,
      "metadata": {
        "collapsed": false
      },
      "outputs": [],
      "source": [
        "# set up the rectangular grid\nrg = ac.RectGrid(x_min=-0.2, x_max=0.2, y_min=-0.2, y_max=0.2, z=-0.3, increment=0.01)\n\n# set up the beamformer\nbb = ac.BeamformerBase(\n    freq_data=ac.PowerSpectra(source=three_sources, block_size=128, window='Hanning'), \n    steer=ac.SteeringVector(grid=rg, mics=mg)\n    )\n\n# calculate the beamforming result as sound pressure level (Lp/dB)\nres = ac.L_p(bb.synthetic(f=4000, num=3)).T"
      ]
    },
    {
      "cell_type": "markdown",
      "metadata": {},
      "source": [
        "## Create widgets\n\nTo enable interactive changes to the beamforming result, we will create some widgets based on the\nexisting processing chain, arranged in a grid layout.\n\n"
      ]
    },
    {
      "cell_type": "code",
      "execution_count": null,
      "metadata": {
        "collapsed": false
      },
      "outputs": [],
      "source": [
        "from bokeh.layouts import gridplot # noqa: E402\n\ngrid_grid = gridplot(\n    list(sp.get_widgets(rg).values()), \n    ncols=2, width=150)"
      ]
    },
    {
      "cell_type": "markdown",
      "metadata": {},
      "source": [
        "## Plot the beamforming result\n\nTo visualize the beamforming result, we will create figure and use Bokeh's\n:class:`~bokeh.models.Image` glyph, which allows us to display 2D source mappings. \nThe :class:`~bokeh.models.Image` glyph requires us to specify the x and y coordinate sof the bottom \nleft grid corner, the width and height of the grid, and the sound pressure to be displayed.\n\n"
      ]
    },
    {
      "cell_type": "code",
      "execution_count": null,
      "metadata": {
        "collapsed": false
      },
      "outputs": [],
      "source": [
        "from bokeh.plotting import figure\nfrom bokeh.models import ColumnDataSource, LinearColorMapper\nfrom bokeh.palettes import viridis\n\n\nsource_plot = figure(title='Acoular Three Sources', tools='hover,reset,pan,wheel_zoom')\n\ncds = ColumnDataSource(\n    data = {'bfdata' : [res], 'x':[rg.x_min], 'y':[rg.y_min], 'dw':[rg.x_max-rg.x_min], 'dh':[rg.y_max-rg.y_min]}\n    )\n\ncolor_mapper = LinearColorMapper(\n    palette=viridis(100), low=res.max()-20, high=res.max())\n\n\nsource_plot.image(\n    color_mapper=color_mapper,\n    image='bfdata', x='x', y='y', dw='dw', dh='dh',alpha=0.9,\n    anchor='bottom_left', origin='bottom_left', source=cds)"
      ]
    },
    {
      "cell_type": "markdown",
      "metadata": {},
      "source": [
        "## The Presenter class\n\nSpectAcoular provides so-called Presenter classes to automatically handle updates of the \n:class:`~bokeh.models.ColumnDataSource` data whenever the desired evaluation parameters change.\nHere, we will use the :class:`~spectacoular.BeamformerPresenter` class. We choose `auto_update=True`, \nwhich means that the data in the :class:`~bokeh.models.ColumnDataSource` will be updated automatically\nwhenever the internal state of the beamformer changes.\n\n"
      ]
    },
    {
      "cell_type": "code",
      "execution_count": null,
      "metadata": {
        "collapsed": false
      },
      "outputs": [],
      "source": [
        "bf_presenter = sp.BeamformerPresenter(\n    source = bb, \n    cdsource = cds,\n    freq = 4000,\n    num = 3,\n    auto_update = True,\n)"
      ]
    },
    {
      "cell_type": "markdown",
      "metadata": {},
      "source": [
        "The :class:`~spectacoular.BeamformerPresenter` class provides two traits, `freq` and `num` that\ncan be used to control the frequency and the frequency band width of the beamforming result. As \nwith all :class:`~spectacoular.factory.BaseSpectacoular` classes, we could use the \n:func:`~spectacoular.factory.get_widgets` function to create Bokeh widgets for these traits.\nHowever, this time, we will take a different approach and assign an existing widget to the `freq`\ntrait via the :func:`~spectacoular.factory.set_widgets` function.\n\n"
      ]
    },
    {
      "cell_type": "code",
      "execution_count": null,
      "metadata": {
        "collapsed": false
      },
      "outputs": [],
      "source": [
        "from bokeh.models.widgets import Slider # noqa: E402\n\nfreqs = bb.freq_data.fftfreq()\ndf = int(bb.freq_data.sample_freq/bb.freq_data.block_size)\n\n\nfreq_slider = Slider(title='f/Hz',value=bf_presenter.freq, start=freqs[1], end=freqs[-1], step=df)\n\nbf_presenter.set_widgets(freq=freq_slider)"
      ]
    },
    {
      "cell_type": "markdown",
      "metadata": {},
      "source": [
        "To handle interaction, we will use the Bokeh `curdoc()` function to add the layout to the current \ndocument, which allows for interaction with the widgets and the figure in a web browser.\n\n\n"
      ]
    },
    {
      "cell_type": "code",
      "execution_count": null,
      "metadata": {
        "collapsed": false
      },
      "outputs": [],
      "source": [
        "from bokeh.layouts import column, row # noqa: E402\nfrom bokeh.io import curdoc # noqa: E402\n\nwidget_layout = column(freq_slider, grid_grid)\nlayout = row(widget_layout, source_plot)\ncurdoc().add_root(layout)"
      ]
    }
  ],
  "metadata": {
    "kernelspec": {
      "display_name": "Python 3",
      "language": "python",
      "name": "python3"
    },
    "language_info": {
      "codemirror_mode": {
        "name": "ipython",
        "version": 3
      },
      "file_extension": ".py",
      "mimetype": "text/x-python",
      "name": "python",
      "nbconvert_exporter": "python",
      "pygments_lexer": "ipython3",
      "version": "3.13.3"
    }
  },
  "nbformat": 4,
  "nbformat_minor": 0
}
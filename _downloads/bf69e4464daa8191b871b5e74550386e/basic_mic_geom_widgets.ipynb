{
  "cells": [
    {
      "cell_type": "markdown",
      "metadata": {},
      "source": [
        "\n\n# Creating widgets with SpectAcoular\n\nIn this example, we are going to create an interactive plot of a Microphone Array Geometry with additional control widgets \nusing the SpectAcoular package.\n\n\n.. bokeh-plot:: ../examples/basic_mic_geom_widgets.py\n   :source-position: none\n\n\n<div class=\"alert alert-info\"><h4>Note</h4><p>For full interactivity, this example should be run as a Bokeh server application.</p></div>\n"
      ]
    },
    {
      "cell_type": "markdown",
      "metadata": {},
      "source": [
        "## Set up the microphone geometry plot\n\nSimilar to the `basic_mic_geom_plot`, we will first import the necessary modules and set up \nthe microphone geometry plot.\n\n"
      ]
    },
    {
      "cell_type": "code",
      "execution_count": null,
      "metadata": {
        "collapsed": false
      },
      "outputs": [],
      "source": [
        "import acoular as ac\nimport spectacoular as sp\nfrom pathlib import Path\nfrom bokeh.models import ColumnDataSource \nfrom bokeh.plotting import figure \n\n# set up the figure\nfigure = figure(title='Microphone Geometry', tools='hover,zoom_in,zoom_out,reset,lasso_select', match_aspect=True)\n\n# set up the microphone geometry\ndefault_xml_file = Path(ac.__file__).parent / 'xml' / 'tub_vogel64.xml'\nmics = sp.MicGeom(file=default_xml_file)\n\n# add circles to the figure to represent the microphones\ncds = ColumnDataSource(data={'x': mics.pos_total[0], 'y': mics.pos_total[1]})\nglyph = figure.circle(x='x', y='y', radius=0.02, line_color='black', fill_color='#1F77B4', fill_alpha=0.4, source=cds)"
      ]
    },
    {
      "cell_type": "markdown",
      "metadata": {},
      "source": [
        "## Create widgets for MicGeom\n\nThe :class:`~acoular.microphones.MicGeom` class provides several attributes, known as traits, that can be used to \neither provide additional information about the microphone array or to modify the geometry.\n\n\n"
      ]
    },
    {
      "cell_type": "code",
      "execution_count": null,
      "metadata": {
        "collapsed": false
      },
      "outputs": [],
      "source": [
        "print(mics.traits().keys())\n\n# Out:\n# ['num_mics', 'center', 'aperture', 'file', 'pos_total', 'pos',  ...]"
      ]
    },
    {
      "cell_type": "markdown",
      "metadata": {},
      "source": [
        "Let's say we want to know about the number of microphones (:attr:`~acoular.microphones.MicGeom.num_mics`) and \nthe aperture of the microphone array (:attr:`~acoular.microphones.MicGeom.aperture`), we can use SpectAcoular's \n:func:`~spectacoular.factory.get_widgets` function to translate each attribute into a Bokeh widget.\n\nDefining each trait to widget mapping individually can become cumbersome, and not all\nwidgets are suitable for all traits. Therefore, SpectAcoular provides default widget mapping for \nmost of Acoular's classes.\n\n"
      ]
    },
    {
      "cell_type": "code",
      "execution_count": null,
      "metadata": {
        "collapsed": false
      },
      "outputs": [],
      "source": [
        "from bokeh.models.widgets import NumericInput # noqa: E402\n\nnumeric_widgets = mics.get_widgets(\n    {'aperture' : NumericInput, 'num_mics': NumericInput},\n    {'aperture': {'title': 'Aperture/m', 'disabled': True},\n     'num_mics': {'title': 'Number of Mics', 'disabled': True}})"
      ]
    },
    {
      "cell_type": "markdown",
      "metadata": {},
      "source": [
        "It would also be beneficial to have a widget that allows the user to edit the microphone positions \nand to display the coodinates in a table format. Both can be achieved by using Bokeh's \n:class:`~bokeh.models.DataTable` widget. In addition, we will use the \n:class:`~bokeh.models.NumberEditor` to allow the user to edit the values in the table.\n\n"
      ]
    },
    {
      "cell_type": "code",
      "execution_count": null,
      "metadata": {
        "collapsed": false
      },
      "outputs": [],
      "source": [
        "from bokeh.models.widgets import DataTable # noqa: E402\nfrom bokeh.models import TableColumn, NumberEditor # noqa: E402\n\neditor = NumberEditor()\npos_table = [\n    TableColumn(field='x', title='x/m', editor=editor),\n    TableColumn(field='y', title='y/m', editor=editor),\n    TableColumn(field='z', title='z/m', editor=editor)\n        ]\n\n# get the widgets for the MicGeom instance\ndata_table_widget = mics.get_widgets(\n    {'pos_total': DataTable}, \n    {'pos_total': {'height': 450, 'transposed': True, 'columns': pos_table, 'source': cds, 'editable': True}}\n    )"
      ]
    },
    {
      "cell_type": "markdown",
      "metadata": {},
      "source": [
        "Finally, we want to allow the user to add or remove microphones from the microphone array.\nTherefore, we will use the :class:`~bokeh.models.tools.PointDrawTool`.\n\n"
      ]
    },
    {
      "cell_type": "code",
      "execution_count": null,
      "metadata": {
        "collapsed": false
      },
      "outputs": [],
      "source": [
        "from bokeh.models import PointDrawTool # noqa: E402\n\n\ndraw_tool = PointDrawTool(renderers=[glyph], empty_value=0.)\n\nfigure.add_tools(draw_tool)\nfigure.toolbar.active_tap = draw_tool"
      ]
    },
    {
      "cell_type": "markdown",
      "metadata": {},
      "source": [
        "Let's create a layout that contains the figure and the widgets. \n\n"
      ]
    },
    {
      "cell_type": "code",
      "execution_count": null,
      "metadata": {
        "collapsed": false
      },
      "outputs": [],
      "source": [
        "from bokeh.layouts import column, row # noqa: E402\nfrom bokeh.io import show # noqa: E402\n\nwidget_column = column(*numeric_widgets.values(), *data_table_widget.values(), width=400)\nlayout = row(figure, widget_column)\nshow(layout)  # Show the plot in a new browser window"
      ]
    },
    {
      "cell_type": "markdown",
      "metadata": {},
      "source": [
        "The following code is for Bokeh server apps only.\n\n"
      ]
    },
    {
      "cell_type": "code",
      "execution_count": null,
      "metadata": {
        "collapsed": false
      },
      "outputs": [],
      "source": [
        "from bokeh.io import curdoc\ncurdoc().add_root(layout)  # Add the layout to the current document for Bokeh server apps"
      ]
    }
  ],
  "metadata": {
    "kernelspec": {
      "display_name": "Python 3",
      "language": "python",
      "name": "python3"
    },
    "language_info": {
      "codemirror_mode": {
        "name": "ipython",
        "version": 3
      },
      "file_extension": ".py",
      "mimetype": "text/x-python",
      "name": "python",
      "nbconvert_exporter": "python",
      "pygments_lexer": "ipython3",
      "version": "3.13.3"
    }
  },
  "nbformat": 4,
  "nbformat_minor": 0
}